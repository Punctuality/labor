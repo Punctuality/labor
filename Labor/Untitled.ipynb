{
 "cells": [
  {
   "cell_type": "code",
   "execution_count": 22,
   "metadata": {},
   "outputs": [
    {
     "name": "stdout",
     "output_type": "stream",
     "text": [
      "Input file (.csv) path: aero.csv\n",
      "__________________\n",
      "|Rpm  | True_Kg\n",
      "|300  | 6.586272\n",
      "|500  | 10.97712\n",
      "|1000 | 54.8856\n",
      "|1500 | 131.72544\n",
      "|2000 | 219.5424\n",
      "|2500 | 285.40512\n",
      "|2700 | 395.17632\n",
      "__________________\n",
      "\n",
      "|Rpm  | Pred_Kg\n",
      "|300  | 5.1597\n",
      "|500  | 14.3325\n",
      "|1000 | 57.33\n",
      "|1500 | 128.9925\n",
      "|2000 | 229.32\n",
      "|2500 | 358.3125\n",
      "|2700 | 417.9357\n",
      "__________________\n"
     ]
    },
    {
     "data": {
      "image/png": "[encoded data removed]",
      "text/plain": [
       "<matplotlib.figure.Figure at 0xa96a134c>"
      ]
     },
     "metadata": {},
     "output_type": "display_data"
    }
   ],
   "source": [
    "import pandas as pd\n",
    "import matplotlib.pyplot as plt\n",
    "\n",
    "filein = input('Input file (.csv) path: ')\n",
    "\n",
    "Df = pd.DataFrame.from_csv(filein)\n",
    "\n",
    "X = Df['Rpm']\n",
    "y = Df['Piguins']\n",
    "\n",
    "a = 1.3\n",
    "p = 1.225\n",
    "d = 0.6\n",
    "Pig_kg = 0.4536\n",
    "X_s = [i/60 for i in X]\n",
    "\n",
    "y_predicted = [a*p*(i**2)*(d**4) for i in X_s]\n",
    "\n",
    "l1l2 = 0.968\n",
    "g = 1\n",
    "\n",
    "y_true = [g*l1l2*Pig_kg*i for i in y]\n",
    "\n",
    "print('_'*18)\n",
    "\n",
    "print('|Rpm  | True_Kg')\n",
    "for i in range(len(X)):\n",
    "    out = str(X[i])+' | '+str(y_true[i])\n",
    "    if out.index('|') == 4:\n",
    "        out=out[:4]+' '+out[4:]\n",
    "    print('|'+out)\n",
    "\n",
    "print('_'*18+'\\n')\n",
    "\n",
    "print('|Rpm  | Pred_Kg')\n",
    "for i in range(len(X)):\n",
    "    out = str(X[i])+' | '+str(y_predicted[i])\n",
    "    if out.index('|') == 4:\n",
    "        out=out[:4]+' '+out[4:]\n",
    "    print('|'+out)\n",
    "\n",
    "print('_'*18)\n",
    "    \n",
    "plt.plot(X, y_predicted, c='green')\n",
    "plt.scatter(X, y_predicted, c='green', marker='X')\n",
    "plt.plot(X, y_true, c ='red')\n",
    "plt.scatter(X, y_true, c ='red', marker='X')\n",
    "plt.show()"
   ]
  }
 ],
 "metadata": {
  "kernelspec": {
   "display_name": "Python 3",
   "language": "python",
   "name": "python3"
  },
  "language_info": {
   "codemirror_mode": {
    "name": "ipython",
    "version": 3
   },
   "file_extension": ".py",
   "mimetype": "text/x-python",
   "name": "python",
   "nbconvert_exporter": "python",
   "pygments_lexer": "ipython3",
   "version": "3.6.2"
  }
 },
 "nbformat": 4,
 "nbformat_minor": 2
}
